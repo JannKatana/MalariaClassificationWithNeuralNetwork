{
 "cells": [
  {
   "cell_type": "code",
   "execution_count": 12,
   "metadata": {},
   "outputs": [],
   "source": [
    "import cv2\n",
    "import glob\n",
    "import h5py\n",
    "import numpy as np\n",
    "import math\n",
    "import matplotlib.pyplot as plt\n",
    "import pandas as pd\n",
    "import tensorflow as tf\n",
    "import time\n",
    "from tensorflow.python.framework import ops\n",
    "from sklearn.model_selection import train_test_split\n",
    "from sklearn.metrics import confusion_matrix\n",
    "\n",
    "%matplotlib inline"
   ]
  },
  {
   "cell_type": "markdown",
   "metadata": {},
   "source": [
    "### Confusion Matrix Helper Function"
   ]
  },
  {
   "cell_type": "code",
   "execution_count": 2,
   "metadata": {},
   "outputs": [],
   "source": [
    "def plot_confusion_matrix(y_true, y_pred, classes,\n",
    "                          normalize=False,\n",
    "                          title=None,\n",
    "                          cmap=plt.cm.Blues):\n",
    "    \"\"\"\n",
    "    This function prints and plots the confusion matrix.\n",
    "    Normalization can be applied by setting `normalize=True`.\n",
    "    \"\"\"\n",
    "    if not title:\n",
    "        if normalize:\n",
    "            title = 'Normalized confusion matrix'\n",
    "        else:\n",
    "            title = 'Confusion matrix, without normalization'\n",
    "\n",
    "    # Compute confusion matrix\n",
    "    cm = confusion_matrix(y_true, y_pred)\n",
    "\n",
    "    fig, ax = plt.subplots()\n",
    "    im = ax.imshow(cm, interpolation='nearest', cmap=cmap)\n",
    "    ax.figure.colorbar(im, ax=ax)\n",
    "    # We want to show all ticks...\n",
    "    ax.set(xticks=np.arange(cm.shape[1]),\n",
    "           yticks=np.arange(cm.shape[0]),\n",
    "           # ... and label them with the respective list entries\n",
    "           xticklabels=classes, yticklabels=classes,\n",
    "           title=title,\n",
    "           ylabel='True label',\n",
    "           xlabel='Predicted label')\n",
    "\n",
    "    # Rotate the tick labels and set their alignment.\n",
    "    plt.setp(ax.get_xticklabels(), rotation=45, ha=\"right\",\n",
    "             rotation_mode=\"anchor\")\n",
    "\n",
    "    # Loop over data dimensions and create text annotations.\n",
    "    fmt = '.2f' if normalize else 'd'\n",
    "    thresh = cm.max() / 2.\n",
    "    for i in range(cm.shape[0]):\n",
    "        for j in range(cm.shape[1]):\n",
    "            ax.text(j, i, format(cm[i, j], fmt),\n",
    "                    ha=\"center\", va=\"center\",\n",
    "                    color=\"white\" if cm[i, j] > thresh else \"black\")\n",
    "    fig.tight_layout()\n",
    "    return ax"
   ]
  },
  {
   "cell_type": "markdown",
   "metadata": {},
   "source": [
    "# Process and Store Images to a database"
   ]
  },
  {
   "cell_type": "code",
   "execution_count": null,
   "metadata": {},
   "outputs": [],
   "source": [
    "FILE_PATH_PARASITIZED = \"datasets\\\\Archived\\\\Parasitized\\\\\"\n",
    "FILE_PATH_UNINFECTED = \"datasets\\\\Archived\\\\Uninfected\\\\\""
   ]
  },
  {
   "cell_type": "code",
   "execution_count": null,
   "metadata": {},
   "outputs": [],
   "source": [
    "parasitized = glob.glob(FILE_PATH_PARASITIZED + \"*.png\")\n",
    "uninfected = glob.glob(FILE_PATH_UNINFECTED + \"*.png\")"
   ]
  },
  {
   "cell_type": "code",
   "execution_count": null,
   "metadata": {},
   "outputs": [],
   "source": [
    "x_list = []\n",
    "y_list = []\n",
    "\n",
    "for image in parasitized:\n",
    "    img = cv2.imread(image)\n",
    "    res = cv2.resize(img, dsize=(32,32))\n",
    "    x_list.append(res)\n",
    "    y_list.append(1)\n",
    "    \n",
    "for image in uninfected:\n",
    "    img = cv2.imread(image)\n",
    "    res = cv2.resize(img, dsize=(32,32))\n",
    "    x_list.append(res)\n",
    "    y_list.append(0)\n",
    "    \n",
    "x = np.array(x_list)\n",
    "y = np.array(y_list)\n",
    "\n",
    "x = x/255.\n",
    "y = y.reshape((y.shape[0],1))\n",
    "\n",
    "print(\"x.shape: %s\" % str(x.shape))\n",
    "print(\"y.shape: %s\" % str(y.shape))"
   ]
  },
  {
   "cell_type": "code",
   "execution_count": null,
   "metadata": {},
   "outputs": [],
   "source": [
    "X_train, X_test, y_train, y_test = train_test_split(x, y, test_size=0.33)"
   ]
  },
  {
   "cell_type": "code",
   "execution_count": null,
   "metadata": {},
   "outputs": [],
   "source": [
    "hf_train = h5py.File(\"train_malaria.h5\", \"w\")\n",
    "hf_train.create_dataset(\"train_set_x\", data=X_train)\n",
    "hf_train.create_dataset(\"train_set_y\", data=y_train)\n",
    "hf_train.close()\n",
    "\n",
    "hf_test = h5py.File(\"test_malaria.h5\", \"w\")\n",
    "hf_test.create_dataset(\"test_set_x\", data=X_test)\n",
    "hf_test.create_dataset(\"test_set_y\", data=y_test)\n",
    "hf_test.close()"
   ]
  },
  {
   "cell_type": "markdown",
   "metadata": {},
   "source": [
    "# Loading Data"
   ]
  },
  {
   "cell_type": "code",
   "execution_count": 3,
   "metadata": {},
   "outputs": [],
   "source": [
    "def load_dataset():\n",
    "    train_dataset = h5py.File('datasets/train_malaria.h5', \"r\")\n",
    "    train_set_x_orig = np.array(train_dataset[\"train_set_x\"][:]) # your train set features\n",
    "    train_set_y_orig = np.array(train_dataset[\"train_set_y\"][:]) # your train set labels\n",
    "\n",
    "    test_dataset = h5py.File('datasets/test_malaria.h5', \"r\")\n",
    "    test_set_x_orig = np.array(test_dataset[\"test_set_x\"][:]) # your test set features\n",
    "    test_set_y_orig = np.array(test_dataset[\"test_set_y\"][:]) # your test set labels\n",
    "    \n",
    "    return train_set_x_orig, train_set_y_orig, test_set_x_orig, test_set_y_orig"
   ]
  },
  {
   "cell_type": "code",
   "execution_count": 4,
   "metadata": {},
   "outputs": [
    {
     "name": "stdout",
     "output_type": "stream",
     "text": [
      "(18463, 32, 32, 3)\n",
      "(18463, 1)\n",
      "(4547, 32, 32, 3)\n",
      "(4547, 1)\n",
      "(4548, 32, 32, 3)\n",
      "(4548, 1)\n"
     ]
    }
   ],
   "source": [
    "X_train, Y_train, X_test, Y_test = load_dataset()\n",
    "\n",
    "X_dev, X_test, Y_dev, Y_test = train_test_split(X_test, Y_test, test_size=0.5)\n",
    "\n",
    "print(X_train.shape)\n",
    "print(Y_train.shape)\n",
    "\n",
    "print(X_dev.shape)\n",
    "print(Y_dev.shape)\n",
    "\n",
    "print(X_test.shape)\n",
    "print(Y_test.shape)"
   ]
  },
  {
   "cell_type": "markdown",
   "metadata": {},
   "source": [
    "# Creating the Network"
   ]
  },
  {
   "cell_type": "code",
   "execution_count": 5,
   "metadata": {},
   "outputs": [
    {
     "name": "stdout",
     "output_type": "stream",
     "text": [
      "WARNING:tensorflow:From C:\\Users\\Jann\\Anaconda3\\envs\\tf-gpu\\lib\\site-packages\\tensorflow\\python\\ops\\resource_variable_ops.py:435: colocate_with (from tensorflow.python.framework.ops) is deprecated and will be removed in a future version.\n",
      "Instructions for updating:\n",
      "Colocations handled automatically by placer.\n"
     ]
    }
   ],
   "source": [
    "model = tf.keras.Sequential([\n",
    "    tf.keras.layers.Conv2D(filters=8, kernel_size=(4,4), strides=1, padding=\"same\", activation=tf.nn.relu, input_shape=(32,32,3)),\n",
    "    tf.keras.layers.MaxPool2D(pool_size=(8,8), strides=8, padding=\"same\"),\n",
    "    tf.keras.layers.Conv2D(filters=16, kernel_size=(2, 2), strides=1, padding=\"same\", activation=tf.nn.relu),\n",
    "    tf.keras.layers.MaxPool2D(pool_size=(4,4), strides=4, padding=\"same\"),\n",
    "    tf.keras.layers.Flatten(),\n",
    "    tf.keras.layers.Dense(7, activation=tf.nn.relu),\n",
    "    tf.keras.layers.Dense(7, activation=tf.nn.relu),\n",
    "    tf.keras.layers.Dense(7, activation=tf.nn.relu),\n",
    "    tf.keras.layers.Dense(1, activation=tf.nn.sigmoid)\n",
    "])  "
   ]
  },
  {
   "cell_type": "code",
   "execution_count": 6,
   "metadata": {},
   "outputs": [],
   "source": [
    "model.compile(optimizer=tf.train.AdamOptimizer(learning_rate=0.001), \n",
    "              loss='binary_crossentropy',\n",
    "              metrics=['accuracy'])\n"
   ]
  },
  {
   "cell_type": "code",
   "execution_count": 7,
   "metadata": {},
   "outputs": [
    {
     "name": "stdout",
     "output_type": "stream",
     "text": [
      "WARNING:tensorflow:From C:\\Users\\Jann\\Anaconda3\\envs\\tf-gpu\\lib\\site-packages\\tensorflow\\python\\ops\\math_ops.py:3066: to_int32 (from tensorflow.python.ops.math_ops) is deprecated and will be removed in a future version.\n",
      "Instructions for updating:\n",
      "Use tf.cast instead.\n",
      "Epoch 1/100\n",
      "18463/18463 [==============================] - 7s 394us/sample - loss: 0.6414 - acc: 0.6470\n",
      "Epoch 2/100\n",
      "18463/18463 [==============================] - 4s 210us/sample - loss: 0.5041 - acc: 0.7733\n",
      "Epoch 3/100\n",
      "18463/18463 [==============================] - 4s 199us/sample - loss: 0.3574 - acc: 0.8511\n",
      "Epoch 4/100\n",
      "18463/18463 [==============================] - 3s 181us/sample - loss: 0.2212 - acc: 0.9140\n",
      "Epoch 5/100\n",
      "18463/18463 [==============================] - 4s 212us/sample - loss: 0.1613 - acc: 0.9452\n",
      "Epoch 6/100\n",
      "18463/18463 [==============================] - 4s 216us/sample - loss: 0.1530 - acc: 0.9501\n",
      "Epoch 7/100\n",
      "18463/18463 [==============================] - 4s 212us/sample - loss: 0.1467 - acc: 0.9524\n",
      "Epoch 8/100\n",
      "18463/18463 [==============================] - 4s 209us/sample - loss: 0.1429 - acc: 0.9535\n",
      "Epoch 9/100\n",
      "18463/18463 [==============================] - 4s 209us/sample - loss: 0.1403 - acc: 0.9546\n",
      "Epoch 10/100\n",
      "18463/18463 [==============================] - 4s 213us/sample - loss: 0.1393 - acc: 0.9543\n",
      "Epoch 11/100\n",
      "18463/18463 [==============================] - 4s 218us/sample - loss: 0.1372 - acc: 0.9549\n",
      "Epoch 12/100\n",
      "18463/18463 [==============================] - 4s 200us/sample - loss: 0.1360 - acc: 0.9554\n",
      "Epoch 13/100\n",
      "18463/18463 [==============================] - 3s 172us/sample - loss: 0.1340 - acc: 0.9562\n",
      "Epoch 14/100\n",
      "18463/18463 [==============================] - 4s 216us/sample - loss: 0.1322 - acc: 0.9562\n",
      "Epoch 15/100\n",
      "18463/18463 [==============================] - 4s 203us/sample - loss: 0.1316 - acc: 0.9560\n",
      "Epoch 16/100\n",
      "18463/18463 [==============================] - 4s 212us/sample - loss: 0.1291 - acc: 0.9568\n",
      "Epoch 17/100\n",
      "18463/18463 [==============================] - 4s 215us/sample - loss: 0.1283 - acc: 0.9574\n",
      "Epoch 18/100\n",
      "18463/18463 [==============================] - 4s 206us/sample - loss: 0.1277 - acc: 0.9580\n",
      "Epoch 19/100\n",
      "18463/18463 [==============================] - 4s 207us/sample - loss: 0.1268 - acc: 0.9566\n",
      "Epoch 20/100\n",
      "18463/18463 [==============================] - 4s 205us/sample - loss: 0.1252 - acc: 0.9573\n",
      "Epoch 21/100\n",
      "18463/18463 [==============================] - 2s 135us/sample - loss: 0.1246 - acc: 0.9579\n",
      "Epoch 22/100\n",
      "18463/18463 [==============================] - 4s 195us/sample - loss: 0.1223 - acc: 0.9600\n",
      "Epoch 23/100\n",
      "18463/18463 [==============================] - 4s 194us/sample - loss: 0.1223 - acc: 0.9593\n",
      "Epoch 24/100\n",
      "18463/18463 [==============================] - 4s 210us/sample - loss: 0.1212 - acc: 0.9592\n",
      "Epoch 25/100\n",
      "18463/18463 [==============================] - 4s 196us/sample - loss: 0.1209 - acc: 0.9601\n",
      "Epoch 26/100\n",
      "18463/18463 [==============================] - 3s 172us/sample - loss: 0.1200 - acc: 0.9604\n",
      "Epoch 27/100\n",
      "18463/18463 [==============================] - 3s 177us/sample - loss: 0.1197 - acc: 0.9605\n",
      "Epoch 28/100\n",
      "18463/18463 [==============================] - 3s 169us/sample - loss: 0.1181 - acc: 0.9598\n",
      "Epoch 29/100\n",
      "18463/18463 [==============================] - 4s 200us/sample - loss: 0.1182 - acc: 0.9604\n",
      "Epoch 30/100\n",
      "18463/18463 [==============================] - 4s 212us/sample - loss: 0.1150 - acc: 0.9617\n",
      "Epoch 31/100\n",
      "18463/18463 [==============================] - 3s 178us/sample - loss: 0.1182 - acc: 0.9594\n",
      "Epoch 32/100\n",
      "18463/18463 [==============================] - 4s 202us/sample - loss: 0.1162 - acc: 0.9611\n",
      "Epoch 33/100\n",
      "18463/18463 [==============================] - 4s 212us/sample - loss: 0.1150 - acc: 0.9608\n",
      "Epoch 34/100\n",
      "18463/18463 [==============================] - 4s 204us/sample - loss: 0.1145 - acc: 0.9611\n",
      "Epoch 35/100\n",
      "18463/18463 [==============================] - 3s 140us/sample - loss: 0.1142 - acc: 0.9624\n",
      "Epoch 36/100\n",
      "18463/18463 [==============================] - 3s 165us/sample - loss: 0.1121 - acc: 0.9629\n",
      "Epoch 37/100\n",
      "18463/18463 [==============================] - 4s 192us/sample - loss: 0.1135 - acc: 0.9622\n",
      "Epoch 38/100\n",
      "18463/18463 [==============================] - 3s 166us/sample - loss: 0.1121 - acc: 0.9625\n",
      "Epoch 39/100\n",
      "18463/18463 [==============================] - 3s 160us/sample - loss: 0.1129 - acc: 0.9627\n",
      "Epoch 40/100\n",
      "18463/18463 [==============================] - 3s 169us/sample - loss: 0.1118 - acc: 0.9625\n",
      "Epoch 41/100\n",
      "18463/18463 [==============================] - 4s 208us/sample - loss: 0.1108 - acc: 0.9621\n",
      "Epoch 42/100\n",
      "18463/18463 [==============================] - 4s 204us/sample - loss: 0.1119 - acc: 0.9624\n",
      "Epoch 43/100\n",
      "18463/18463 [==============================] - 3s 161us/sample - loss: 0.1112 - acc: 0.9624\n",
      "Epoch 44/100\n",
      "18463/18463 [==============================] - 3s 145us/sample - loss: 0.1111 - acc: 0.9630\n",
      "Epoch 45/100\n",
      "18463/18463 [==============================] - 2s 134us/sample - loss: 0.1097 - acc: 0.9628\n",
      "Epoch 46/100\n",
      "18463/18463 [==============================] - 2s 120us/sample - loss: 0.1102 - acc: 0.9619\n",
      "Epoch 47/100\n",
      "18463/18463 [==============================] - 2s 117us/sample - loss: 0.1103 - acc: 0.9623\n",
      "Epoch 48/100\n",
      "18463/18463 [==============================] - 2s 118us/sample - loss: 0.1095 - acc: 0.9631\n",
      "Epoch 49/100\n",
      "18463/18463 [==============================] - 2s 118us/sample - loss: 0.1087 - acc: 0.9622\n",
      "Epoch 50/100\n",
      "18463/18463 [==============================] - 2s 115us/sample - loss: 0.1078 - acc: 0.9623\n",
      "Epoch 51/100\n",
      "18463/18463 [==============================] - 3s 164us/sample - loss: 0.1077 - acc: 0.9623\n",
      "Epoch 52/100\n",
      "18463/18463 [==============================] - 3s 177us/sample - loss: 0.1088 - acc: 0.9630\n",
      "Epoch 53/100\n",
      "18463/18463 [==============================] - 3s 149us/sample - loss: 0.1076 - acc: 0.9639\n",
      "Epoch 54/100\n",
      "18463/18463 [==============================] - 2s 132us/sample - loss: 0.1081 - acc: 0.9632\n",
      "Epoch 55/100\n",
      "18463/18463 [==============================] - 4s 201us/sample - loss: 0.1074 - acc: 0.9635\n",
      "Epoch 56/100\n",
      "18463/18463 [==============================] - 3s 180us/sample - loss: 0.1063 - acc: 0.9634\n",
      "Epoch 57/100\n",
      "18463/18463 [==============================] - 3s 167us/sample - loss: 0.1059 - acc: 0.9643\n",
      "Epoch 58/100\n",
      "18463/18463 [==============================] - 2s 118us/sample - loss: 0.1061 - acc: 0.9631\n",
      "Epoch 59/100\n",
      "18463/18463 [==============================] - 2s 129us/sample - loss: 0.1077 - acc: 0.9634\n",
      "Epoch 60/100\n",
      "18463/18463 [==============================] - 3s 144us/sample - loss: 0.1064 - acc: 0.9638\n",
      "Epoch 61/100\n",
      "18463/18463 [==============================] - 4s 206us/sample - loss: 0.1046 - acc: 0.9642\n",
      "Epoch 62/100\n",
      "18463/18463 [==============================] - 3s 166us/sample - loss: 0.1055 - acc: 0.9644\n",
      "Epoch 63/100\n",
      "18463/18463 [==============================] - 3s 178us/sample - loss: 0.1045 - acc: 0.9644\n",
      "Epoch 64/100\n",
      "18463/18463 [==============================] - 3s 163us/sample - loss: 0.1041 - acc: 0.9636\n",
      "Epoch 65/100\n",
      "18463/18463 [==============================] - 4s 195us/sample - loss: 0.1041 - acc: 0.9646\n",
      "Epoch 66/100\n",
      "18463/18463 [==============================] - 3s 158us/sample - loss: 0.1039 - acc: 0.9645\n",
      "Epoch 67/100\n",
      "18463/18463 [==============================] - 3s 171us/sample - loss: 0.1036 - acc: 0.9647\n",
      "Epoch 68/100\n",
      "18463/18463 [==============================] - 3s 153us/sample - loss: 0.1039 - acc: 0.9651\n",
      "Epoch 69/100\n",
      "18463/18463 [==============================] - 3s 180us/sample - loss: 0.1026 - acc: 0.9652\n",
      "Epoch 70/100\n",
      "18463/18463 [==============================] - 4s 201us/sample - loss: 0.1025 - acc: 0.9643\n",
      "Epoch 71/100\n",
      "18463/18463 [==============================] - 3s 140us/sample - loss: 0.1036 - acc: 0.9638\n",
      "Epoch 72/100\n",
      "18463/18463 [==============================] - 3s 141us/sample - loss: 0.1029 - acc: 0.9643\n",
      "Epoch 73/100\n",
      "18463/18463 [==============================] - 3s 147us/sample - loss: 0.1029 - acc: 0.9645\n",
      "Epoch 74/100\n",
      "18463/18463 [==============================] - 2s 133us/sample - loss: 0.1027 - acc: 0.9649\n",
      "Epoch 75/100\n",
      "18463/18463 [==============================] - 2s 121us/sample - loss: 0.1029 - acc: 0.9643\n",
      "Epoch 76/100\n"
     ]
    },
    {
     "name": "stdout",
     "output_type": "stream",
     "text": [
      "18463/18463 [==============================] - 4s 196us/sample - loss: 0.1026 - acc: 0.9649\n",
      "Epoch 77/100\n",
      "18463/18463 [==============================] - 3s 177us/sample - loss: 0.1015 - acc: 0.9650\n",
      "Epoch 78/100\n",
      "18463/18463 [==============================] - 4s 193us/sample - loss: 0.1032 - acc: 0.9654\n",
      "Epoch 79/100\n",
      "18463/18463 [==============================] - 3s 173us/sample - loss: 0.1024 - acc: 0.9647\n",
      "Epoch 80/100\n",
      "18463/18463 [==============================] - 3s 164us/sample - loss: 0.1007 - acc: 0.9651\n",
      "Epoch 81/100\n",
      "18463/18463 [==============================] - 3s 168us/sample - loss: 0.0996 - acc: 0.9663\n",
      "Epoch 82/100\n",
      "18463/18463 [==============================] - 3s 174us/sample - loss: 0.1009 - acc: 0.9648\n",
      "Epoch 83/100\n",
      "18463/18463 [==============================] - 4s 196us/sample - loss: 0.1004 - acc: 0.9652\n",
      "Epoch 84/100\n",
      "18463/18463 [==============================] - 4s 202us/sample - loss: 0.0994 - acc: 0.9656\n",
      "Epoch 85/100\n",
      "18463/18463 [==============================] - 3s 172us/sample - loss: 0.1001 - acc: 0.9662\n",
      "Epoch 86/100\n",
      "18463/18463 [==============================] - 4s 206us/sample - loss: 0.1007 - acc: 0.9654\n",
      "Epoch 87/100\n",
      "18463/18463 [==============================] - 3s 173us/sample - loss: 0.1010 - acc: 0.9660\n",
      "Epoch 88/100\n",
      "18463/18463 [==============================] - 3s 150us/sample - loss: 0.1002 - acc: 0.9655\n",
      "Epoch 89/100\n",
      "18463/18463 [==============================] - 3s 139us/sample - loss: 0.0992 - acc: 0.9659\n",
      "Epoch 90/100\n",
      "18463/18463 [==============================] - 2s 135us/sample - loss: 0.0996 - acc: 0.9659\n",
      "Epoch 91/100\n",
      "18463/18463 [==============================] - 2s 135us/sample - loss: 0.1005 - acc: 0.9652\n",
      "Epoch 92/100\n",
      "18463/18463 [==============================] - 3s 174us/sample - loss: 0.1005 - acc: 0.9651\n",
      "Epoch 93/100\n",
      "18463/18463 [==============================] - 3s 189us/sample - loss: 0.0986 - acc: 0.9659\n",
      "Epoch 94/100\n",
      "18463/18463 [==============================] - 3s 161us/sample - loss: 0.0984 - acc: 0.9654\n",
      "Epoch 95/100\n",
      "18463/18463 [==============================] - 3s 148us/sample - loss: 0.0977 - acc: 0.9660\n",
      "Epoch 96/100\n",
      "18463/18463 [==============================] - 3s 146us/sample - loss: 0.0976 - acc: 0.9662\n",
      "Epoch 97/100\n",
      "18463/18463 [==============================] - 3s 158us/sample - loss: 0.0979 - acc: 0.9666\n",
      "Epoch 98/100\n",
      "18463/18463 [==============================] - 3s 154us/sample - loss: 0.0972 - acc: 0.9662\n",
      "Epoch 99/100\n",
      "18463/18463 [==============================] - 3s 180us/sample - loss: 0.0970 - acc: 0.9662\n",
      "Epoch 100/100\n",
      "18463/18463 [==============================] - 3s 140us/sample - loss: 0.0980 - acc: 0.9658\n"
     ]
    },
    {
     "data": {
      "text/plain": [
       "<tensorflow.python.keras.callbacks.History at 0x244c0668c50>"
      ]
     },
     "execution_count": 7,
     "metadata": {},
     "output_type": "execute_result"
    }
   ],
   "source": [
    "model.fit(X_train, Y_train, epochs=100)"
   ]
  },
  {
   "cell_type": "code",
   "execution_count": 8,
   "metadata": {},
   "outputs": [
    {
     "name": "stdout",
     "output_type": "stream",
     "text": [
      "4547/4547 [==============================] - 1s 115us/sample - loss: 0.1350 - acc: 0.9558\n",
      "Dev set accuracy: 0.95579505\n"
     ]
    }
   ],
   "source": [
    "dev_loss, dev_acc = model.evaluate(X_dev, Y_dev)\n",
    "\n",
    "print('Dev set accuracy:', dev_acc)"
   ]
  },
  {
   "cell_type": "code",
   "execution_count": 9,
   "metadata": {},
   "outputs": [
    {
     "name": "stdout",
     "output_type": "stream",
     "text": [
      "4548/4548 [==============================] - 0s 62us/sample - loss: 0.1310 - acc: 0.9556\n",
      "Test set accuracy: 0.9555849\n"
     ]
    }
   ],
   "source": [
    "test_loss, test_acc = model.evaluate(X_test, Y_test)\n",
    "\n",
    "print('Test set accuracy:', test_acc)"
   ]
  },
  {
   "cell_type": "code",
   "execution_count": 10,
   "metadata": {},
   "outputs": [
    {
     "name": "stdout",
     "output_type": "stream",
     "text": [
      "[False]\n"
     ]
    },
    {
     "data": {
      "text/plain": [
       "<matplotlib.image.AxesImage at 0x244fff8ad30>"
      ]
     },
     "execution_count": 10,
     "metadata": {},
     "output_type": "execute_result"
    },
    {
     "data": {
      "image/png": "[encoded data removed]",
      "text/plain": [
       "<Figure size 432x288 with 1 Axes>"
      ]
     },
     "metadata": {
      "needs_background": "light"
     },
     "output_type": "display_data"
    }
   ],
   "source": [
    "index = 999\n",
    "predictions = model.predict(X_test) > 0.5\n",
    "print(predictions[index])\n",
    "plt.title(\"y = %s\" % Y_test[index])\n",
    "plt.imshow(X_test[index])"
   ]
  },
  {
   "cell_type": "code",
   "execution_count": 13,
   "metadata": {},
   "outputs": [
    {
     "data": {
      "text/plain": [
       "<matplotlib.axes._subplots.AxesSubplot at 0x244cfa2cf98>"
      ]
     },
     "execution_count": 13,
     "metadata": {},
     "output_type": "execute_result"
    },
    {
     "data": {
      "image/png": "[encoded data removed]",
      "text/plain": [
       "<Figure size 432x288 with 2 Axes>"
      ]
     },
     "metadata": {
      "needs_background": "light"
     },
     "output_type": "display_data"
    }
   ],
   "source": [
    "plot_confusion_matrix(Y_test, predictions, classes=[\"Uninfected\",\"Parasitized\"], title='Confusion matrix on Test Set')"
   ]
  },
  {
   "cell_type": "code",
   "execution_count": null,
   "metadata": {},
   "outputs": [],
   "source": []
  }
 ],
 "metadata": {
  "kernelspec": {
   "display_name": "Python [conda env:tf-gpu]",
   "language": "python",
   "name": "conda-env-tf-gpu-py"
  },
  "language_info": {
   "codemirror_mode": {
    "name": "ipython",
    "version": 3
   },
   "file_extension": ".py",
   "mimetype": "text/x-python",
   "name": "python",
   "nbconvert_exporter": "python",
   "pygments_lexer": "ipython3",
   "version": "3.7.1"
  }
 },
 "nbformat": 4,
 "nbformat_minor": 2
}
