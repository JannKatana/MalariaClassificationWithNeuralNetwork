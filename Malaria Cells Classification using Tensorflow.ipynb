{
 "cells": [
  {
   "cell_type": "code",
   "execution_count": 1,
   "metadata": {},
   "outputs": [],
   "source": [
    "import cv2\n",
    "import glob\n",
    "import h5py\n",
    "import numpy as np\n",
    "import math\n",
    "import matplotlib.pyplot as plt\n",
    "import pandas as pd\n",
    "import tensorflow as tf\n",
    "import time\n",
    "from tensorflow.python.framework import ops\n",
    "from sklearn.model_selection import train_test_split\n",
    "\n",
    "%matplotlib inline"
   ]
  },
  {
   "cell_type": "markdown",
   "metadata": {},
   "source": [
    "# Process and Store Images to a database"
   ]
  },
  {
   "cell_type": "code",
   "execution_count": null,
   "metadata": {},
   "outputs": [],
   "source": [
    "FILE_PATH_PARASITIZED = \"datasets\\\\Archived\\\\Parasitized\\\\\"\n",
    "FILE_PATH_UNINFECTED = \"datasets\\\\Archived\\\\Uninfected\\\\\""
   ]
  },
  {
   "cell_type": "code",
   "execution_count": null,
   "metadata": {},
   "outputs": [],
   "source": [
    "parasitized = glob.glob(FILE_PATH_PARASITIZED + \"*.png\")\n",
    "uninfected = glob.glob(FILE_PATH_UNINFECTED + \"*.png\")"
   ]
  },
  {
   "cell_type": "code",
   "execution_count": null,
   "metadata": {},
   "outputs": [],
   "source": [
    "x_list = []\n",
    "y_list = []\n",
    "\n",
    "for image in parasitized:\n",
    "    img = cv2.imread(image)\n",
    "    res = cv2.resize(img, dsize=(32,32))\n",
    "    x_list.append(res)\n",
    "    y_list.append(1)\n",
    "    \n",
    "for image in uninfected:\n",
    "    img = cv2.imread(image)\n",
    "    res = cv2.resize(img, dsize=(32,32))\n",
    "    x_list.append(res)\n",
    "    y_list.append(0)\n",
    "    \n",
    "x = np.array(x_list)\n",
    "y = np.array(y_list)\n",
    "\n",
    "x = x/255.\n",
    "y = y.reshape((y.shape[0],1))\n",
    "\n",
    "print(\"x.shape: %s\" % str(x.shape))\n",
    "print(\"y.shape: %s\" % str(y.shape))"
   ]
  },
  {
   "cell_type": "code",
   "execution_count": null,
   "metadata": {},
   "outputs": [],
   "source": [
    "X_train, X_test, y_train, y_test = train_test_split(x, y, test_size=0.33)"
   ]
  },
  {
   "cell_type": "code",
   "execution_count": null,
   "metadata": {},
   "outputs": [],
   "source": [
    "hf_train = h5py.File(\"train_malaria.h5\", \"w\")\n",
    "hf_train.create_dataset(\"train_set_x\", data=X_train)\n",
    "hf_train.create_dataset(\"train_set_y\", data=y_train)\n",
    "hf_train.close()\n",
    "\n",
    "hf_test = h5py.File(\"test_malaria.h5\", \"w\")\n",
    "hf_test.create_dataset(\"test_set_x\", data=X_test)\n",
    "hf_test.create_dataset(\"test_set_y\", data=y_test)\n",
    "hf_test.close()"
   ]
  },
  {
   "cell_type": "markdown",
   "metadata": {},
   "source": [
    "# Loading Data"
   ]
  },
  {
   "cell_type": "code",
   "execution_count": 2,
   "metadata": {},
   "outputs": [],
   "source": [
    "def load_dataset():\n",
    "    train_dataset = h5py.File('datasets/train_malaria.h5', \"r\")\n",
    "    train_set_x_orig = np.array(train_dataset[\"train_set_x\"][:]) # your train set features\n",
    "    train_set_y_orig = np.array(train_dataset[\"train_set_y\"][:]) # your train set labels\n",
    "\n",
    "    test_dataset = h5py.File('datasets/test_malaria.h5', \"r\")\n",
    "    test_set_x_orig = np.array(test_dataset[\"test_set_x\"][:]) # your test set features\n",
    "    test_set_y_orig = np.array(test_dataset[\"test_set_y\"][:]) # your test set labels\n",
    "    \n",
    "    return train_set_x_orig, train_set_y_orig, test_set_x_orig, test_set_y_orig"
   ]
  },
  {
   "cell_type": "code",
   "execution_count": 3,
   "metadata": {},
   "outputs": [
    {
     "name": "stdout",
     "output_type": "stream",
     "text": [
      "(18463, 32, 32, 3)\n",
      "(18463, 1)\n",
      "(4547, 32, 32, 3)\n",
      "(4547, 1)\n",
      "(4548, 32, 32, 3)\n",
      "(4548, 1)\n"
     ]
    }
   ],
   "source": [
    "X_train, Y_train, X_test, Y_test = load_dataset()\n",
    "\n",
    "X_dev, X_test, Y_dev, Y_test = train_test_split(X_test, Y_test, test_size=0.5)\n",
    "\n",
    "print(X_train.shape)\n",
    "print(Y_train.shape)\n",
    "\n",
    "print(X_dev.shape)\n",
    "print(Y_dev.shape)\n",
    "\n",
    "print(X_test.shape)\n",
    "print(Y_test.shape)"
   ]
  },
  {
   "cell_type": "markdown",
   "metadata": {},
   "source": [
    "# Creating the Network"
   ]
  },
  {
   "cell_type": "code",
   "execution_count": 29,
   "metadata": {},
   "outputs": [],
   "source": [
    "model = tf.keras.Sequential([\n",
    "    tf.keras.layers.Conv2D(filters=8, kernel_size=(4,4), strides=1, padding=\"same\", activation=tf.nn.relu, input_shape=(32,32,3)),\n",
    "    tf.keras.layers.MaxPool2D(pool_size=(8,8), strides=8, padding=\"same\"),\n",
    "    tf.keras.layers.Conv2D(filters=16, kernel_size=(2, 2), strides=1, padding=\"same\", activation=tf.nn.relu),\n",
    "    tf.keras.layers.MaxPool2D(pool_size=(4,4), strides=4, padding=\"same\"),\n",
    "    tf.keras.layers.Flatten(),\n",
    "    tf.keras.layers.Dense(7, activation=tf.nn.relu),\n",
    "    tf.keras.layers.Dense(5, activation=tf.nn.relu),\n",
    "    tf.keras.layers.Dense(1, activation=tf.nn.sigmoid)\n",
    "])  "
   ]
  },
  {
   "cell_type": "code",
   "execution_count": 32,
   "metadata": {},
   "outputs": [],
   "source": [
    "model.compile(optimizer=tf.train.AdamOptimizer(learning_rate=0.001), \n",
    "              loss='binary_crossentropy',\n",
    "              metrics=['accuracy'])\n"
   ]
  },
  {
   "cell_type": "code",
   "execution_count": 33,
   "metadata": {},
   "outputs": [
    {
     "name": "stdout",
     "output_type": "stream",
     "text": [
      "Epoch 1/100\n",
      "18463/18463 [==============================] - 13s 706us/sample - loss: 0.0872 - acc: 0.9687 - loss: 0\n",
      "Epoch 2/100\n",
      "18463/18463 [==============================] - 13s 730us/sample - loss: 0.0869 - acc: 0.9700 - loss: 0.0873 - acc: 0.9\n",
      "Epoch 3/100\n",
      "18463/18463 [==============================] - 14s 743us/sample - loss: 0.0885 - acc: 0.9679\n",
      "Epoch 4/100\n",
      "18463/18463 [==============================] - 14s 750us/sample - loss: 0.0859 - acc: 0.9698\n",
      "Epoch 5/100\n",
      "18463/18463 [==============================] - 14s 783us/sample - loss: 0.0861 - acc: 0.9691 - l\n",
      "Epoch 6/100\n",
      "18463/18463 [==============================] - 15s 795us/sample - loss: 0.0871 - acc: 0.9687 - loss: 0.0871 - acc: 0.968\n",
      "Epoch 7/100\n",
      "18463/18463 [==============================] - 15s 799us/sample - loss: 0.0876 - acc: 0.9684\n",
      "Epoch 8/100\n",
      "18463/18463 [==============================] - 15s 803us/sample - loss: 0.0858 - acc: 0.9699\n",
      "Epoch 9/100\n",
      "18463/18463 [==============================] - 15s 799us/sample - loss: 0.0865 - acc: 0.9698\n",
      "Epoch 10/100\n",
      "18463/18463 [==============================] - 15s 796us/sample - loss: 0.0855 - acc: 0.9699\n",
      "Epoch 11/100\n",
      "18463/18463 [==============================] - 15s 795us/sample - loss: 0.0871 - acc: 0.9695\n",
      "Epoch 12/100\n",
      "18463/18463 [==============================] - 15s 815us/sample - loss: 0.0859 - acc: 0.9696\n",
      "Epoch 13/100\n",
      "18463/18463 [==============================] - 14s 767us/sample - loss: 0.0858 - acc: 0.9699\n",
      "Epoch 14/100\n",
      "18463/18463 [==============================] - 14s 750us/sample - loss: 0.0856 - acc: 0.9685\n",
      "Epoch 15/100\n",
      "18463/18463 [==============================] - 16s 848us/sample - loss: 0.0853 - acc: 0.9687\n",
      "Epoch 16/100\n",
      "18463/18463 [==============================] - 14s 780us/sample - loss: 0.0865 - acc: 0.9689\n",
      "Epoch 17/100\n",
      "18463/18463 [==============================] - 16s 842us/sample - loss: 0.0849 - acc: 0.9695\n",
      "Epoch 18/100\n",
      "18463/18463 [==============================] - 15s 825us/sample - loss: 0.0845 - acc: 0.9700\n",
      "Epoch 19/100\n",
      "18463/18463 [==============================] - 15s 809us/sample - loss: 0.0848 - acc: 0.9697\n",
      "Epoch 20/100\n",
      "18463/18463 [==============================] - 15s 792us/sample - loss: 0.0837 - acc: 0.9709\n",
      "Epoch 21/100\n",
      "18463/18463 [==============================] - 15s 812us/sample - loss: 0.0850 - acc: 0.9695\n",
      "Epoch 22/100\n",
      "18463/18463 [==============================] - 15s 808us/sample - loss: 0.0848 - acc: 0.9708\n",
      "Epoch 23/100\n",
      "18463/18463 [==============================] - 15s 816us/sample - loss: 0.0844 - acc: 0.9698\n",
      "Epoch 24/100\n",
      "18463/18463 [==============================] - 15s 823us/sample - loss: 0.0838 - acc: 0.9699\n",
      "Epoch 25/100\n",
      "18463/18463 [==============================] - 15s 806us/sample - loss: 0.0837 - acc: 0.9707\n",
      "Epoch 26/100\n",
      "18463/18463 [==============================] - 15s 822us/sample - loss: 0.0844 - acc: 0.9689\n",
      "Epoch 27/100\n",
      "18463/18463 [==============================] - 15s 834us/sample - loss: 0.0830 - acc: 0.9700\n",
      "Epoch 28/100\n",
      "18463/18463 [==============================] - 15s 817us/sample - loss: 0.0839 - acc: 0.9699\n",
      "Epoch 29/100\n",
      "18463/18463 [==============================] - 15s 816us/sample - loss: 0.0849 - acc: 0.9694\n",
      "Epoch 30/100\n",
      "18463/18463 [==============================] - 15s 812us/sample - loss: 0.0845 - acc: 0.9697\n",
      "Epoch 31/100\n",
      "18463/18463 [==============================] - 15s 808us/sample - loss: 0.0858 - acc: 0.9700\n",
      "Epoch 32/100\n",
      "18463/18463 [==============================] - 15s 815us/sample - loss: 0.0827 - acc: 0.9707\n",
      "Epoch 33/100\n",
      "18463/18463 [==============================] - 15s 808us/sample - loss: 0.0850 - acc: 0.9700\n",
      "Epoch 34/100\n",
      "18463/18463 [==============================] - 15s 819us/sample - loss: 0.0834 - acc: 0.9712 - loss: 0.\n",
      "Epoch 35/100\n",
      "18463/18463 [==============================] - 15s 813us/sample - loss: 0.0827 - acc: 0.9700\n",
      "Epoch 36/100\n",
      "18463/18463 [==============================] - 15s 815us/sample - loss: 0.0825 - acc: 0.9704\n",
      "Epoch 37/100\n",
      "18463/18463 [==============================] - 15s 809us/sample - loss: 0.0829 - acc: 0.9705\n",
      "Epoch 38/100\n",
      "18463/18463 [==============================] - 15s 824us/sample - loss: 0.0830 - acc: 0.9711\n",
      "Epoch 39/100\n",
      "18463/18463 [==============================] - 15s 800us/sample - loss: 0.0842 - acc: 0.9692\n",
      "Epoch 40/100\n",
      "18463/18463 [==============================] - 15s 822us/sample - loss: 0.0839 - acc: 0.9696\n",
      "Epoch 41/100\n",
      "18463/18463 [==============================] - 15s 807us/sample - loss: 0.0847 - acc: 0.9696\n",
      "Epoch 42/100\n",
      "18463/18463 [==============================] - 15s 823us/sample - loss: 0.0825 - acc: 0.9704\n",
      "Epoch 43/100\n",
      "18463/18463 [==============================] - 15s 815us/sample - loss: 0.0832 - acc: 0.9714\n",
      "Epoch 44/100\n",
      "18463/18463 [==============================] - 15s 820us/sample - loss: 0.0822 - acc: 0.9710\n",
      "Epoch 45/100\n",
      "18463/18463 [==============================] - 15s 832us/sample - loss: 0.0818 - acc: 0.9705\n",
      "Epoch 46/100\n",
      "18463/18463 [==============================] - 15s 824us/sample - loss: 0.0825 - acc: 0.9711\n",
      "Epoch 47/100\n",
      "18463/18463 [==============================] - 12s 667us/sample - loss: 0.0813 - acc: 0.9708\n",
      "Epoch 48/100\n",
      "18463/18463 [==============================] - 10s 538us/sample - loss: 0.0821 - acc: 0.9706\n",
      "Epoch 49/100\n",
      "18463/18463 [==============================] - 10s 564us/sample - loss: 0.0824 - acc: 0.9703\n",
      "Epoch 50/100\n",
      "18463/18463 [==============================] - 12s 630us/sample - loss: 0.0817 - acc: 0.9712\n",
      "Epoch 51/100\n",
      "18463/18463 [==============================] - 13s 695us/sample - loss: 0.0824 - acc: 0.9703\n",
      "Epoch 52/100\n",
      "18463/18463 [==============================] - 13s 712us/sample - loss: 0.0815 - acc: 0.9711\n",
      "Epoch 53/100\n",
      "18463/18463 [==============================] - 14s 731us/sample - loss: 0.0809 - acc: 0.9706\n",
      "Epoch 54/100\n",
      "18463/18463 [==============================] - 13s 727us/sample - loss: 0.0814 - acc: 0.9704\n",
      "Epoch 55/100\n",
      "18463/18463 [==============================] - 14s 761us/sample - loss: 0.0794 - acc: 0.9724\n",
      "Epoch 56/100\n",
      "18463/18463 [==============================] - 14s 760us/sample - loss: 0.0804 - acc: 0.9712\n",
      "Epoch 57/100\n",
      "18463/18463 [==============================] - 15s 797us/sample - loss: 0.0817 - acc: 0.9713\n",
      "Epoch 58/100\n",
      "18463/18463 [==============================] - 15s 798us/sample - loss: 0.0811 - acc: 0.9711\n",
      "Epoch 59/100\n",
      "18463/18463 [==============================] - 15s 805us/sample - loss: 0.0809 - acc: 0.9716\n",
      "Epoch 60/100\n",
      "18463/18463 [==============================] - 15s 822us/sample - loss: 0.0815 - acc: 0.9709\n",
      "Epoch 61/100\n",
      "18463/18463 [==============================] - 15s 833us/sample - loss: 0.0817 - acc: 0.9711\n",
      "Epoch 62/100\n",
      "18463/18463 [==============================] - 15s 817us/sample - loss: 0.0808 - acc: 0.9715\n",
      "Epoch 63/100\n",
      "18463/18463 [==============================] - 15s 821us/sample - loss: 0.0794 - acc: 0.9722\n",
      "Epoch 64/100\n",
      "18463/18463 [==============================] - 15s 817us/sample - loss: 0.0806 - acc: 0.9726\n",
      "Epoch 65/100\n",
      "18463/18463 [==============================] - 15s 829us/sample - loss: 0.0793 - acc: 0.9712\n",
      "Epoch 66/100\n",
      "18463/18463 [==============================] - 15s 821us/sample - loss: 0.0803 - acc: 0.9709\n",
      "Epoch 67/100\n",
      "18463/18463 [==============================] - 15s 806us/sample - loss: 0.0804 - acc: 0.9710\n",
      "Epoch 68/100\n",
      "18463/18463 [==============================] - 15s 813us/sample - loss: 0.0805 - acc: 0.9704\n",
      "Epoch 69/100\n",
      "18463/18463 [==============================] - 15s 807us/sample - loss: 0.0806 - acc: 0.9713\n",
      "Epoch 70/100\n",
      "18463/18463 [==============================] - 14s 765us/sample - loss: 0.0796 - acc: 0.9720\n",
      "Epoch 71/100\n",
      "18463/18463 [==============================] - 14s 773us/sample - loss: 0.0812 - acc: 0.9697\n",
      "Epoch 72/100\n",
      "18463/18463 [==============================] - 14s 779us/sample - loss: 0.0807 - acc: 0.9716 - loss: 0.0806 - acc: 0\n",
      "Epoch 73/100\n",
      "18463/18463 [==============================] - 15s 787us/sample - loss: 0.0809 - acc: 0.9712\n",
      "Epoch 74/100\n",
      "18463/18463 [==============================] - 15s 803us/sample - loss: 0.0793 - acc: 0.9721\n",
      "Epoch 75/100\n",
      "18463/18463 [==============================] - 15s 799us/sample - loss: 0.0786 - acc: 0.9704\n",
      "Epoch 76/100\n",
      "18463/18463 [==============================] - 15s 789us/sample - loss: 0.0793 - acc: 0.9721\n",
      "Epoch 77/100\n"
     ]
    },
    {
     "name": "stdout",
     "output_type": "stream",
     "text": [
      "18463/18463 [==============================] - 15s 791us/sample - loss: 0.0800 - acc: 0.9707\n",
      "Epoch 78/100\n",
      "18463/18463 [==============================] - 15s 796us/sample - loss: 0.0794 - acc: 0.9723\n",
      "Epoch 79/100\n",
      "18463/18463 [==============================] - 15s 804us/sample - loss: 0.0799 - acc: 0.9716\n",
      "Epoch 80/100\n",
      "18463/18463 [==============================] - 15s 789us/sample - loss: 0.0791 - acc: 0.9721\n",
      "Epoch 81/100\n",
      "18463/18463 [==============================] - 15s 807us/sample - loss: 0.0800 - acc: 0.9715\n",
      "Epoch 82/100\n",
      "18463/18463 [==============================] - 15s 800us/sample - loss: 0.0780 - acc: 0.9722\n",
      "Epoch 83/100\n",
      "18463/18463 [==============================] - 15s 802us/sample - loss: 0.0779 - acc: 0.9725\n",
      "Epoch 84/100\n",
      "18463/18463 [==============================] - 15s 788us/sample - loss: 0.0793 - acc: 0.9720\n",
      "Epoch 85/100\n",
      "18463/18463 [==============================] - 15s 795us/sample - loss: 0.0789 - acc: 0.9718\n",
      "Epoch 86/100\n",
      "18463/18463 [==============================] - 15s 790us/sample - loss: 0.0786 - acc: 0.9721\n",
      "Epoch 87/100\n",
      "18463/18463 [==============================] - 15s 794us/sample - loss: 0.0776 - acc: 0.9722\n",
      "Epoch 88/100\n",
      "18463/18463 [==============================] - 15s 793us/sample - loss: 0.0783 - acc: 0.9717\n",
      "Epoch 89/100\n",
      "18463/18463 [==============================] - 15s 802us/sample - loss: 0.0783 - acc: 0.9716\n",
      "Epoch 90/100\n",
      "18463/18463 [==============================] - 15s 802us/sample - loss: 0.0791 - acc: 0.9713\n",
      "Epoch 91/100\n",
      "18463/18463 [==============================] - 15s 796us/sample - loss: 0.0786 - acc: 0.9712\n",
      "Epoch 92/100\n",
      "18463/18463 [==============================] - 15s 800us/sample - loss: 0.0786 - acc: 0.9710\n",
      "Epoch 93/100\n",
      "18463/18463 [==============================] - 15s 796us/sample - loss: 0.0781 - acc: 0.9715\n",
      "Epoch 94/100\n",
      "18463/18463 [==============================] - 15s 794us/sample - loss: 0.0789 - acc: 0.9717\n",
      "Epoch 95/100\n",
      "18463/18463 [==============================] - 15s 796us/sample - loss: 0.0761 - acc: 0.9731\n",
      "Epoch 96/100\n",
      "18463/18463 [==============================] - 15s 796us/sample - loss: 0.0766 - acc: 0.9729\n",
      "Epoch 97/100\n",
      "18463/18463 [==============================] - 15s 799us/sample - loss: 0.0774 - acc: 0.9710 - loss: 0.0772 - acc: 0.9\n",
      "Epoch 98/100\n",
      "18463/18463 [==============================] - 15s 808us/sample - loss: 0.0769 - acc: 0.9719\n",
      "Epoch 99/100\n",
      "18463/18463 [==============================] - 16s 889us/sample - loss: 0.0780 - acc: 0.9729\n",
      "Epoch 100/100\n",
      "18463/18463 [==============================] - 15s 810us/sample - loss: 0.0778 - acc: 0.9721\n"
     ]
    },
    {
     "data": {
      "text/plain": [
       "<tensorflow.python.keras.callbacks.History at 0x1f5ae2c3b38>"
      ]
     },
     "execution_count": 33,
     "metadata": {},
     "output_type": "execute_result"
    }
   ],
   "source": [
    "model.fit(X_train, Y_train, epochs=100)"
   ]
  },
  {
   "cell_type": "code",
   "execution_count": 34,
   "metadata": {},
   "outputs": [
    {
     "name": "stdout",
     "output_type": "stream",
     "text": [
      "4547/4547 [==============================] - 2s 371us/sample - loss: 0.1534 - acc: 0.9514\n",
      "Dev set accuracy: 0.9513965\n"
     ]
    }
   ],
   "source": [
    "dev_loss, dev_acc = model.evaluate(X_dev, Y_dev)\n",
    "\n",
    "print('Dev set accuracy:', dev_acc)"
   ]
  },
  {
   "cell_type": "code",
   "execution_count": 35,
   "metadata": {},
   "outputs": [
    {
     "name": "stdout",
     "output_type": "stream",
     "text": [
      "4548/4548 [==============================] - 2s 425us/sample - loss: 0.1461 - acc: 0.9598\n",
      "Test set accuracy: 0.9597625\n"
     ]
    }
   ],
   "source": [
    "test_loss, test_acc = model.evaluate(X_test, Y_test)\n",
    "\n",
    "print('Test set accuracy:', test_acc)"
   ]
  },
  {
   "cell_type": "code",
   "execution_count": 36,
   "metadata": {},
   "outputs": [
    {
     "name": "stdout",
     "output_type": "stream",
     "text": [
      "[ True]\n"
     ]
    },
    {
     "data": {
      "text/plain": [
       "<matplotlib.image.AxesImage at 0x1f5b5807438>"
      ]
     },
     "execution_count": 36,
     "metadata": {},
     "output_type": "execute_result"
    },
    {
     "data": {
      "image/png": "[encoded data removed]",
      "text/plain": [
       "<Figure size 432x288 with 1 Axes>"
      ]
     },
     "metadata": {
      "needs_background": "light"
     },
     "output_type": "display_data"
    }
   ],
   "source": [
    "index = 999\n",
    "predictions = model.predict(X_test) > 0.5\n",
    "print(predictions[index])\n",
    "plt.title(\"y = %s\" % Y_test[index])\n",
    "plt.imshow(X_test[index])"
   ]
  },
  {
   "cell_type": "code",
   "execution_count": null,
   "metadata": {},
   "outputs": [],
   "source": []
  }
 ],
 "metadata": {
  "kernelspec": {
   "display_name": "Python 3",
   "language": "python",
   "name": "python3"
  },
  "language_info": {
   "codemirror_mode": {
    "name": "ipython",
    "version": 3
   },
   "file_extension": ".py",
   "mimetype": "text/x-python",
   "name": "python",
   "nbconvert_exporter": "python",
   "pygments_lexer": "ipython3",
   "version": "3.6.8"
  }
 },
 "nbformat": 4,
 "nbformat_minor": 2
}
